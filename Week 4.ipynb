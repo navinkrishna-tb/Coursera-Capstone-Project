{
    "cells": [
        {
            "cell_type": "markdown",
            "metadata": {},
            "source": "# Applied Capstone Project"
        },
        {
            "cell_type": "markdown",
            "metadata": {},
            "source": "## Opening New Shopping Mall in Kula Lumpur Malaysia"
        },
        {
            "cell_type": "markdown",
            "metadata": {},
            "source": "**By Navin Krishna**"
        },
        {
            "cell_type": "markdown",
            "metadata": {},
            "source": "**June 2020**"
        },
        {
            "cell_type": "markdown",
            "metadata": {},
            "source": "## Introduction"
        },
        {
            "cell_type": "markdown",
            "metadata": {},
            "source": "Visiting shopping mall is a relaxation activity for most of family. Also wide variety of age groups should hangout in shopping malls. There are many features such as grocery shopping, dine at restaurant and shop at various fashion outlets. For retailers, the central location and large crowd at shopping malls provide great distribution channel to market their products and services."
        },
        {
            "cell_type": "markdown",
            "metadata": {},
            "source": "#### Bussiness Problem"
        },
        {
            "cell_type": "markdown",
            "metadata": {},
            "source": "The objective of this capstone project is to anayse and select the best locations in Kula Lumpur, Malaysia to open a new shopping mall. Using Data science methodology and machine learning techniques like clustering, this project aim to provide solution to answer the bussiness question: In the city of Kula Lumpur, Malaysia, if a property developer is looking to open a new shopping mall,where would you recommend to open it?"
        },
        {
            "cell_type": "markdown",
            "metadata": {},
            "source": "#### Target audience of this project"
        },
        {
            "cell_type": "markdown",
            "metadata": {},
            "source": "This project is useful for developers and investors looking to open or invest new shoppping mall in kula Lumpur."
        },
        {
            "cell_type": "markdown",
            "metadata": {},
            "source": "## Data"
        },
        {
            "cell_type": "markdown",
            "metadata": {},
            "source": "- List of neighbourhood data from wikipedia(https://en.wikipedia.org/wiki/Category:Suburbs_in_Kuala_Lumpur)\n- Latitude and Longitude coordinates of neighbourhood from geocoder\n- Venue data is extracted from Foursquare using foursquare API"
        }
    ],
    "metadata": {
        "kernelspec": {
            "display_name": "Python 3.6",
            "language": "python",
            "name": "python3"
        },
        "language_info": {
            "codemirror_mode": {
                "name": "ipython",
                "version": 3
            },
            "file_extension": ".py",
            "mimetype": "text/x-python",
            "name": "python",
            "nbconvert_exporter": "python",
            "pygments_lexer": "ipython3",
            "version": "3.6.9"
        }
    },
    "nbformat": 4,
    "nbformat_minor": 2
}