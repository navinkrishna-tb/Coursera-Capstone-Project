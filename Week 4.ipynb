{
    "cells": [
        {
            "metadata": {},
            "cell_type": "markdown",
            "source": "<h1><center>Applied Capstone Project</center></h1>"
        },
        {
            "metadata": {},
            "cell_type": "markdown",
            "source": "<h2><center>Opening New Shopping Mall in Kula Lumpur Malaysia</center></h2>"
        },
        {
            "metadata": {},
            "cell_type": "markdown",
            "source": "**By Navin Krishna**"
        },
        {
            "metadata": {},
            "cell_type": "markdown",
            "source": "**June 2019**"
        },
        {
            "metadata": {},
            "cell_type": "markdown",
            "source": "## Introduction"
        },
        {
            "metadata": {},
            "cell_type": "markdown",
            "source": "Visiting shopping mall is a relaxation activity for most of family. Also wide variety of age groups should hangout in shopping malls. There are many features such as grocery shopping, dine at restaurant and shop at various fashion outlets. For retailers, the central location and large crowd at shopping malls provide great distribution channel to market their products and services."
        },
        {
            "metadata": {},
            "cell_type": "markdown",
            "source": "#### Bussiness Problem"
        },
        {
            "metadata": {},
            "cell_type": "markdown",
            "source": "The objective of this capstone project is to anayse and select the best locations in Kula Lumpur, Malaysia to open a new shopping mall. Using Data science methodology and machine learning techniques like clustering, this project aim to provide solution to answer the bussiness question: In the city of Kula Lumpur, Malaysia, if a property developer is looking to open a new shopping mall,where would you recommend to open it?"
        },
        {
            "metadata": {},
            "cell_type": "markdown",
            "source": "#### Target audience of this project"
        },
        {
            "metadata": {},
            "cell_type": "markdown",
            "source": "This project is useful for developers and investors looking to open or invest new shoppping mall in kula Lumpur."
        },
        {
            "metadata": {},
            "cell_type": "markdown",
            "source": "## Data"
        },
        {
            "metadata": {},
            "cell_type": "markdown",
            "source": "- List of neighbourhood data from wikipedia(https://en.wikipedia.org/wiki/Category:Suburbs_in_Kuala_Lumpur)\n- Latitude and Longitude coordinates of neighbourhood from geocoder\n- Venue data is extracted from Foursquare using foursquare API"
        }
    ],
    "metadata": {
        "kernelspec": {
            "name": "python3",
            "display_name": "Python 3.6",
            "language": "python"
        },
        "language_info": {
            "name": "python",
            "version": "3.6.9",
            "mimetype": "text/x-python",
            "codemirror_mode": {
                "name": "ipython",
                "version": 3
            },
            "pygments_lexer": "ipython3",
            "nbconvert_exporter": "python",
            "file_extension": ".py"
        }
    },
    "nbformat": 4,
    "nbformat_minor": 2
}